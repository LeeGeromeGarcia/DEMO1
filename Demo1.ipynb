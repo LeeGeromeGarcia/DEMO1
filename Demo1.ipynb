{
  "nbformat": 4,
  "nbformat_minor": 0,
  "metadata": {
    "colab": {
      "name": "Untitled0.ipynb",
      "provenance": [],
      "collapsed_sections": []
    },
    "kernelspec": {
      "name": "python3",
      "display_name": "Python 3"
    },
    "language_info": {
      "name": "python"
    }
  },
  "cells": [
    {
      "cell_type": "code",
      "metadata": {
        "colab": {
          "base_uri": "https://localhost:8080/"
        },
        "id": "MqN5GWywAc9o",
        "outputId": "58b5a2c8-cf8a-4631-b204-a4c77c737514"
      },
      "source": [
        "z = \"Lee \"\n",
        "x = \"Gerome\"\n",
        "print(z+x)"
      ],
      "execution_count": 7,
      "outputs": [
        {
          "output_type": "stream",
          "name": "stdout",
          "text": [
            "Lee Gerome\n"
          ]
        }
      ]
    },
    {
      "cell_type": "code",
      "metadata": {
        "colab": {
          "base_uri": "https://localhost:8080/"
        },
        "id": "1O0O8eRIAjqV",
        "outputId": "fac04ba1-2e16-4559-a489-f445151f1ad4"
      },
      "source": [
        "x = \"fun\"\n",
        "print('Python programming is ' + x)"
      ],
      "execution_count": 5,
      "outputs": [
        {
          "output_type": "stream",
          "name": "stdout",
          "text": [
            "Python programming is fun\n"
          ]
        }
      ]
    },
    {
      "cell_type": "code",
      "metadata": {
        "colab": {
          "base_uri": "https://localhost:8080/"
        },
        "id": "h_CNbtkXAl9B",
        "outputId": "b8569d0b-e66c-418b-d44a-bdd74749db82"
      },
      "source": [
        "\n",
        "a = \"fun\"\n",
        "b = \"Python programming is \"\n",
        "c = a + b\n",
        "print(c)"
      ],
      "execution_count": 4,
      "outputs": [
        {
          "output_type": "stream",
          "name": "stdout",
          "text": [
            "funPython programming is \n"
          ]
        }
      ]
    },
    {
      "cell_type": "code",
      "metadata": {
        "colab": {
          "base_uri": "https://localhost:8080/"
        },
        "id": "gYUcnVrYAufJ",
        "outputId": "513032bf-bd9b-4a17-faf0-713efbb24bce"
      },
      "source": [
        "x = 4\n",
        "y = 7\n",
        "sum = x + y\n",
        "sum"
      ],
      "execution_count": 3,
      "outputs": [
        {
          "output_type": "execute_result",
          "data": {
            "text/plain": [
              "11"
            ]
          },
          "metadata": {},
          "execution_count": 3
        }
      ]
    },
    {
      "cell_type": "code",
      "metadata": {
        "colab": {
          "base_uri": "https://localhost:8080/"
        },
        "id": "1ooec-4UAv2Q",
        "outputId": "8183784c-7e77-444a-9874-4bfef9df1c79"
      },
      "source": [
        "x = 1\n",
        "y = 3\n",
        "compare = x < y\n",
        "compare"
      ],
      "execution_count": 2,
      "outputs": [
        {
          "output_type": "execute_result",
          "data": {
            "text/plain": [
              "True"
            ]
          },
          "metadata": {},
          "execution_count": 2
        }
      ]
    },
    {
      "cell_type": "code",
      "metadata": {
        "colab": {
          "base_uri": "https://localhost:8080/"
        },
        "id": "uonXWh_BAyRQ",
        "outputId": "54f2dac7-b3b6-443d-83ce-d59e1013e5b9"
      },
      "source": [
        "a,b,c = 1, 2, 3\n",
        "c%=4\n",
        "c"
      ],
      "execution_count": 1,
      "outputs": [
        {
          "output_type": "execute_result",
          "data": {
            "text/plain": [
              "3"
            ]
          },
          "metadata": {},
          "execution_count": 1
        }
      ]
    }
  ]
}